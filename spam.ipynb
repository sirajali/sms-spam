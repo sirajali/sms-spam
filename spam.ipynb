{
 "cells": [
  {
   "cell_type": "markdown",
   "metadata": {},
   "source": [
    "# SMS Spam Classification using Deep Learning\n",
    "\n",
    "### Siraj Ali\n",
    "\n",
    "Dataset location: https://archive.ics.uci.edu/ml/datasets/SMS+Spam+Collection"
   ]
  },
  {
   "cell_type": "code",
   "execution_count": 1,
   "metadata": {},
   "outputs": [],
   "source": [
    "from nltk import stem\n",
    "from nltk.corpus import stopwords\n",
    "from sklearn.feature_extraction.text import TfidfVectorizer\n",
    "from sklearn.metrics import accuracy_score, confusion_matrix, roc_auc_score, roc_curve\n",
    "from sklearn.model_selection import StratifiedShuffleSplit, train_test_split\n",
    "from sklearn.naive_bayes import MultinomialNB\n",
    "from sklearn.svm import SVC\n",
    "\n",
    "import matplotlib.pyplot as plt\n",
    "import nltk\n",
    "import numpy as np\n",
    "import os\n",
    "import pandas as pd"
   ]
  },
  {
   "cell_type": "code",
   "execution_count": 2,
   "metadata": {},
   "outputs": [],
   "source": [
    "SEED = 42\n",
    "NLTK_DATA_PATH = ''\n",
    "SPAM_DATA_PATH = './data/sms.txt'"
   ]
  },
  {
   "cell_type": "code",
   "execution_count": null,
   "metadata": {},
   "outputs": [],
   "source": [
    "if not os.path.exists(NLTK_DATA_PATH):\n",
    "    nltk.download()\n",
    "else:\n",
    "    print('NLTK data already exists at specified path.')"
   ]
  },
  {
   "cell_type": "markdown",
   "metadata": {},
   "source": [
    "## Read in the data"
   ]
  },
  {
   "cell_type": "code",
   "execution_count": 3,
   "metadata": {},
   "outputs": [],
   "source": [
    "if os.path.exists(SPAM_DATA_PATH):\n",
    "    df = pd.read_csv(SPAM_DATA_PATH, delimiter='\\t', header=None, names=['label', 'raw'])\n",
    "else:\n",
    "    print(f'The data does not exist at path {DATA_PATH}')"
   ]
  },
  {
   "cell_type": "code",
   "execution_count": 4,
   "metadata": {},
   "outputs": [
    {
     "data": {
      "text/html": [
       "<div>\n",
       "<style scoped>\n",
       "    .dataframe tbody tr th:only-of-type {\n",
       "        vertical-align: middle;\n",
       "    }\n",
       "\n",
       "    .dataframe tbody tr th {\n",
       "        vertical-align: top;\n",
       "    }\n",
       "\n",
       "    .dataframe thead th {\n",
       "        text-align: right;\n",
       "    }\n",
       "</style>\n",
       "<table border=\"1\" class=\"dataframe\">\n",
       "  <thead>\n",
       "    <tr style=\"text-align: right;\">\n",
       "      <th></th>\n",
       "      <th>label</th>\n",
       "      <th>raw</th>\n",
       "    </tr>\n",
       "  </thead>\n",
       "  <tbody>\n",
       "    <tr>\n",
       "      <th>0</th>\n",
       "      <td>ham</td>\n",
       "      <td>Go until jurong point, crazy.. Available only ...</td>\n",
       "    </tr>\n",
       "    <tr>\n",
       "      <th>1</th>\n",
       "      <td>ham</td>\n",
       "      <td>Ok lar... Joking wif u oni...</td>\n",
       "    </tr>\n",
       "    <tr>\n",
       "      <th>2</th>\n",
       "      <td>spam</td>\n",
       "      <td>Free entry in 2 a wkly comp to win FA Cup fina...</td>\n",
       "    </tr>\n",
       "    <tr>\n",
       "      <th>3</th>\n",
       "      <td>ham</td>\n",
       "      <td>U dun say so early hor... U c already then say...</td>\n",
       "    </tr>\n",
       "    <tr>\n",
       "      <th>4</th>\n",
       "      <td>ham</td>\n",
       "      <td>Nah I don't think he goes to usf, he lives aro...</td>\n",
       "    </tr>\n",
       "  </tbody>\n",
       "</table>\n",
       "</div>"
      ],
      "text/plain": [
       "  label                                                raw\n",
       "0   ham  Go until jurong point, crazy.. Available only ...\n",
       "1   ham                      Ok lar... Joking wif u oni...\n",
       "2  spam  Free entry in 2 a wkly comp to win FA Cup fina...\n",
       "3   ham  U dun say so early hor... U c already then say...\n",
       "4   ham  Nah I don't think he goes to usf, he lives aro..."
      ]
     },
     "execution_count": 4,
     "metadata": {},
     "output_type": "execute_result"
    }
   ],
   "source": [
    "df.head()"
   ]
  },
  {
   "cell_type": "code",
   "execution_count": 5,
   "metadata": {},
   "outputs": [
    {
     "data": {
      "text/plain": [
       "label    0\n",
       "raw      0\n",
       "dtype: int64"
      ]
     },
     "execution_count": 5,
     "metadata": {},
     "output_type": "execute_result"
    }
   ],
   "source": [
    "# check for nulls\n",
    "df.isna().sum()"
   ]
  },
  {
   "cell_type": "markdown",
   "metadata": {},
   "source": [
    "### Check the distribution of spam and ham\n",
    "\n",
    "There is about a 13.4% event rate that messages are spam in this dataset."
   ]
  },
  {
   "cell_type": "code",
   "execution_count": 6,
   "metadata": {},
   "outputs": [
    {
     "data": {
      "text/html": [
       "<div>\n",
       "<style scoped>\n",
       "    .dataframe tbody tr th:only-of-type {\n",
       "        vertical-align: middle;\n",
       "    }\n",
       "\n",
       "    .dataframe tbody tr th {\n",
       "        vertical-align: top;\n",
       "    }\n",
       "\n",
       "    .dataframe thead th {\n",
       "        text-align: right;\n",
       "    }\n",
       "</style>\n",
       "<table border=\"1\" class=\"dataframe\">\n",
       "  <thead>\n",
       "    <tr style=\"text-align: right;\">\n",
       "      <th></th>\n",
       "      <th>raw</th>\n",
       "    </tr>\n",
       "    <tr>\n",
       "      <th>label</th>\n",
       "      <th></th>\n",
       "    </tr>\n",
       "  </thead>\n",
       "  <tbody>\n",
       "    <tr>\n",
       "      <th>ham</th>\n",
       "      <td>0.865937</td>\n",
       "    </tr>\n",
       "    <tr>\n",
       "      <th>spam</th>\n",
       "      <td>0.134063</td>\n",
       "    </tr>\n",
       "  </tbody>\n",
       "</table>\n",
       "</div>"
      ],
      "text/plain": [
       "            raw\n",
       "label          \n",
       "ham    0.865937\n",
       "spam   0.134063"
      ]
     },
     "execution_count": 6,
     "metadata": {},
     "output_type": "execute_result"
    }
   ],
   "source": [
    "df.groupby(['label']).count() / df.shape[0]"
   ]
  },
  {
   "cell_type": "code",
   "execution_count": 7,
   "metadata": {},
   "outputs": [
    {
     "data": {
      "text/plain": [
       "<AxesSubplot:>"
      ]
     },
     "execution_count": 7,
     "metadata": {},
     "output_type": "execute_result"
    },
    {
     "data": {
      "image/png": "[encoded data removed]",
      "text/plain": [
       "<Figure size 432x288 with 1 Axes>"
      ]
     },
     "metadata": {
      "needs_background": "light"
     },
     "output_type": "display_data"
    }
   ],
   "source": [
    "df['label'].hist()"
   ]
  },
  {
   "cell_type": "markdown",
   "metadata": {},
   "source": [
    "### Check length of messages\n",
    "\n",
    "Spam messages tend to be much longer than ham messages."
   ]
  },
  {
   "cell_type": "code",
   "execution_count": 8,
   "metadata": {},
   "outputs": [],
   "source": [
    "df.loc[:, 'length'] = df['raw'].apply(lambda x: len(x))"
   ]
  },
  {
   "cell_type": "code",
   "execution_count": 9,
   "metadata": {},
   "outputs": [
    {
     "data": {
      "text/plain": [
       "<AxesSubplot:>"
      ]
     },
     "execution_count": 9,
     "metadata": {},
     "output_type": "execute_result"
    },
    {
     "data": {
      "image/png": "[encoded data removed]",
      "text/plain": [
       "<Figure size 432x288 with 1 Axes>"
      ]
     },
     "metadata": {
      "needs_background": "light"
     },
     "output_type": "display_data"
    }
   ],
   "source": [
    "df['length'].hist(bins=100)"
   ]
  },
  {
   "cell_type": "code",
   "execution_count": 10,
   "metadata": {},
   "outputs": [
    {
     "data": {
      "text/plain": [
       "<AxesSubplot:>"
      ]
     },
     "execution_count": 10,
     "metadata": {},
     "output_type": "execute_result"
    },
    {
     "data": {
      "image/png": "[encoded data removed]",
      "text/plain": [
       "<Figure size 432x288 with 1 Axes>"
      ]
     },
     "metadata": {
      "needs_background": "light"
     },
     "output_type": "display_data"
    }
   ],
   "source": [
    "df.query('label == \"ham\"')['length'].hist(bins=100)"
   ]
  },
  {
   "cell_type": "code",
   "execution_count": 11,
   "metadata": {},
   "outputs": [
    {
     "data": {
      "text/plain": [
       "<AxesSubplot:>"
      ]
     },
     "execution_count": 11,
     "metadata": {},
     "output_type": "execute_result"
    },
    {
     "data": {
      "image/png": "[encoded data removed]",
      "text/plain": [
       "<Figure size 432x288 with 1 Axes>"
      ]
     },
     "metadata": {
      "needs_background": "light"
     },
     "output_type": "display_data"
    }
   ],
   "source": [
    "df.query('label == \"spam\"')['length'].hist(bins=100)"
   ]
  },
  {
   "cell_type": "code",
   "execution_count": 12,
   "metadata": {},
   "outputs": [
    {
     "data": {
      "text/plain": [
       "label\n",
       "ham      71.482487\n",
       "spam    138.670683\n",
       "Name: length, dtype: float64"
      ]
     },
     "execution_count": 12,
     "metadata": {},
     "output_type": "execute_result"
    }
   ],
   "source": [
    "df.groupby('label')['length'].mean()"
   ]
  },
  {
   "cell_type": "markdown",
   "metadata": {},
   "source": [
    "## Clean the text data"
   ]
  },
  {
   "cell_type": "code",
   "execution_count": 13,
   "metadata": {},
   "outputs": [],
   "source": [
    "# binarize the target\n",
    "df['target'] = df['label'].map({'ham': 0, 'spam': 1})"
   ]
  },
  {
   "cell_type": "code",
   "execution_count": 14,
   "metadata": {},
   "outputs": [],
   "source": [
    "stemmer = stem.SnowballStemmer('english') # Porter2 stemmer\n",
    "stops = set(stopwords.words())"
   ]
  },
  {
   "cell_type": "code",
   "execution_count": 15,
   "metadata": {},
   "outputs": [],
   "source": [
    "def process_messages(msg):\n",
    "    \n",
    "    # strip whitecase and case-normalize\n",
    "    msg = msg.lower().strip()\n",
    "    \n",
    "    # tokenize word\n",
    "    words = nltk.word_tokenize(msg)\n",
    "    \n",
    "    # remove punctuation\n",
    "    words = [w for w in words if w.isalnum()]\n",
    "    \n",
    "    # remove stopwords\n",
    "    words = [w for w in words if w not in stops]\n",
    "    \n",
    "    # use stemmer to get word stem\n",
    "    final = ' '.join([stemmer.stem(w) for w in words])\n",
    "    \n",
    "    # return \n",
    "    return final\n",
    "\n",
    "df['message'] = df['raw'].apply(process_messages)"
   ]
  },
  {
   "cell_type": "code",
   "execution_count": 16,
   "metadata": {},
   "outputs": [
    {
     "data": {
      "text/plain": [
       "{'label': 'ham',\n",
       " 'raw': 'Go until jurong point, crazy.. Available only in bugis n great world la e buffet... Cine there got amore wat...',\n",
       " 'length': 111,\n",
       " 'target': 0,\n",
       " 'message': 'go jurong point crazi avail bugi great world buffet got amor'}"
      ]
     },
     "execution_count": 16,
     "metadata": {},
     "output_type": "execute_result"
    }
   ],
   "source": [
    "dict(df.iloc[0])"
   ]
  },
  {
   "cell_type": "markdown",
   "metadata": {},
   "source": [
    "## Train-Test Split"
   ]
  },
  {
   "cell_type": "code",
   "execution_count": 17,
   "metadata": {},
   "outputs": [],
   "source": [
    "# stratified split to get equal distribution of event rate - 70/30 split for train and test\n",
    "stratsplit = StratifiedShuffleSplit(test_size=0.3, random_state=SEED)\n",
    "\n",
    "for train_idx, test_idx in stratsplit.split(df, df[\"target\"]):\n",
    "    df_train = df.iloc[train_idx]\n",
    "    df_test = df.iloc[test_idx]"
   ]
  },
  {
   "cell_type": "code",
   "execution_count": 18,
   "metadata": {},
   "outputs": [
    {
     "data": {
      "text/plain": [
       "0    3377\n",
       "1     523\n",
       "Name: target, dtype: int64"
      ]
     },
     "execution_count": 18,
     "metadata": {},
     "output_type": "execute_result"
    }
   ],
   "source": [
    "df_train['target'].value_counts()"
   ]
  },
  {
   "cell_type": "code",
   "execution_count": 19,
   "metadata": {},
   "outputs": [
    {
     "data": {
      "text/plain": [
       "0    1448\n",
       "1     224\n",
       "Name: target, dtype: int64"
      ]
     },
     "execution_count": 19,
     "metadata": {},
     "output_type": "execute_result"
    }
   ],
   "source": [
    "df_test['target'].value_counts()"
   ]
  },
  {
   "cell_type": "code",
   "execution_count": 20,
   "metadata": {},
   "outputs": [],
   "source": [
    "X_train = df_train.drop('target', axis=1)['message'].values\n",
    "y_train = df_train['target'].values"
   ]
  },
  {
   "cell_type": "code",
   "execution_count": 21,
   "metadata": {},
   "outputs": [],
   "source": [
    "X_test = df_test.drop('target', axis=1)['message'].values\n",
    "y_test = df_test['target'].values"
   ]
  },
  {
   "cell_type": "markdown",
   "metadata": {},
   "source": [
    "## Vectorize the text using Term Frequency - Inverse Document Frequency (TF-IDF)"
   ]
  },
  {
   "cell_type": "code",
   "execution_count": 22,
   "metadata": {},
   "outputs": [],
   "source": [
    "vectorizer = TfidfVectorizer()"
   ]
  },
  {
   "cell_type": "code",
   "execution_count": 23,
   "metadata": {},
   "outputs": [],
   "source": [
    "X_train_vec = vectorizer.fit_transform(X_train)\n",
    "X_test_vec = vectorizer.transform(X_test)"
   ]
  },
  {
   "cell_type": "markdown",
   "metadata": {},
   "source": [
    "## Naive Bayes Classifier"
   ]
  },
  {
   "cell_type": "code",
   "execution_count": 24,
   "metadata": {},
   "outputs": [
    {
     "data": {
      "text/plain": [
       "MultinomialNB()"
      ]
     },
     "execution_count": 24,
     "metadata": {},
     "output_type": "execute_result"
    }
   ],
   "source": [
    "bayes = MultinomialNB()\n",
    "bayes.fit(X_train_vec, y_train)"
   ]
  },
  {
   "cell_type": "code",
   "execution_count": 25,
   "metadata": {},
   "outputs": [
    {
     "name": "stdout",
     "output_type": "stream",
     "text": [
      "0.9557416267942583\n",
      "0.8367082675611681\n"
     ]
    }
   ],
   "source": [
    "nb_preds = bayes.predict(X_test_vec)\n",
    "print(accuracy_score(y_test, nb_preds))\n",
    "print(roc_auc_score(y_test, nb_preds))"
   ]
  },
  {
   "cell_type": "code",
   "execution_count": 26,
   "metadata": {},
   "outputs": [
    {
     "name": "stdout",
     "output_type": "stream",
     "text": [
      "TP: 1447\n",
      "FP: 1\n",
      "FN: 73\n",
      "TN: 151\n"
     ]
    }
   ],
   "source": [
    "nb_cf_mtrx = confusion_matrix(y_test, nb_preds)\n",
    "print('TP:', nb_cf_mtrx[0][0])\n",
    "print('FP:', nb_cf_mtrx[0][1])\n",
    "print('FN:', nb_cf_mtrx[1][0])\n",
    "print('TN:', nb_cf_mtrx[1][1])"
   ]
  },
  {
   "cell_type": "markdown",
   "metadata": {},
   "source": [
    "The Naive Bayes classifier is not too bad, though many false negatives do indeed get through."
   ]
  },
  {
   "cell_type": "markdown",
   "metadata": {},
   "source": [
    "## SVM"
   ]
  },
  {
   "cell_type": "code",
   "execution_count": 65,
   "metadata": {},
   "outputs": [
    {
     "data": {
      "text/plain": [
       "SVC(probability=True)"
      ]
     },
     "execution_count": 65,
     "metadata": {},
     "output_type": "execute_result"
    }
   ],
   "source": [
    "svm = SVC(C=1.0, kernel='rbf', probability=True)\n",
    "svm.fit(X_train_vec, y_train)"
   ]
  },
  {
   "cell_type": "code",
   "execution_count": 66,
   "metadata": {},
   "outputs": [
    {
     "name": "stdout",
     "output_type": "stream",
     "text": [
      "0.972488038277512\n",
      "0.899208267561168\n"
     ]
    }
   ],
   "source": [
    "preds = svm.predict(X_test_vec)\n",
    "print(accuracy_score(y_test, preds))\n",
    "print(roc_auc_score(y_test, preds))"
   ]
  },
  {
   "cell_type": "code",
   "execution_count": 67,
   "metadata": {},
   "outputs": [
    {
     "name": "stdout",
     "output_type": "stream",
     "text": [
      "TP: 1447\n",
      "FP: 1\n",
      "FN: 45\n",
      "TN: 179\n"
     ]
    }
   ],
   "source": [
    "sv_cf_mtrx = confusion_matrix(y_test, preds)\n",
    "print('TP:', sv_cf_mtrx[0][0])\n",
    "print('FP:', sv_cf_mtrx[0][1])\n",
    "print('FN:', sv_cf_mtrx[1][0])\n",
    "print('TN:', sv_cf_mtrx[1][1])"
   ]
  },
  {
   "cell_type": "markdown",
   "metadata": {},
   "source": [
    "While better than the Naive Bayes Classifier, the SVM produces a decent rate of false negatives! That's a good number of spam messages getting through."
   ]
  },
  {
   "cell_type": "markdown",
   "metadata": {},
   "source": [
    "## Artificial Neural Network"
   ]
  },
  {
   "cell_type": "code",
   "execution_count": 30,
   "metadata": {},
   "outputs": [],
   "source": [
    "from tensorflow.keras.layers import Dense, Dropout, Activation\n",
    "import tensorflow as tf"
   ]
  },
  {
   "cell_type": "code",
   "execution_count": 90,
   "metadata": {},
   "outputs": [],
   "source": [
    "BATCH_SIZE = 32\n",
    "EPOCHS = 10"
   ]
  },
  {
   "cell_type": "code",
   "execution_count": 91,
   "metadata": {},
   "outputs": [],
   "source": [
    "ann = tf.keras.models.Sequential()\n",
    "ann.add(Dense(units=512))\n",
    "ann.add(Dropout(0.1))\n",
    "ann.add(Activation('relu'))\n",
    "ann.add(Dense(units=256))\n",
    "ann.add(Dropout(0.1))\n",
    "ann.add(Activation('relu'))\n",
    "ann.add(Dense(units=1))\n",
    "ann.add(Activation('sigmoid'))"
   ]
  },
  {
   "cell_type": "code",
   "execution_count": 92,
   "metadata": {},
   "outputs": [
    {
     "name": "stdout",
     "output_type": "stream",
     "text": [
      "Epoch 1/10\n",
      "122/122 [==============================] - 2s 11ms/step - loss: 0.3759 - accuracy: 0.8513\n",
      "Epoch 2/10\n",
      "122/122 [==============================] - 1s 11ms/step - loss: 0.0478 - accuracy: 0.9902\n",
      "Epoch 3/10\n",
      "122/122 [==============================] - 1s 11ms/step - loss: 0.0069 - accuracy: 0.9983\n",
      "Epoch 4/10\n",
      "122/122 [==============================] - 1s 11ms/step - loss: 0.0013 - accuracy: 0.9997\n",
      "Epoch 5/10\n",
      "122/122 [==============================] - 1s 12ms/step - loss: 5.2738e-04 - accuracy: 1.0000\n",
      "Epoch 6/10\n",
      "122/122 [==============================] - 2s 13ms/step - loss: 2.4223e-04 - accuracy: 1.0000\n",
      "Epoch 7/10\n",
      "122/122 [==============================] - 1s 12ms/step - loss: 1.4356e-04 - accuracy: 1.0000\n",
      "Epoch 8/10\n",
      "122/122 [==============================] - 2s 14ms/step - loss: 9.5886e-05 - accuracy: 1.0000\n",
      "Epoch 9/10\n",
      "122/122 [==============================] - 2s 14ms/step - loss: 7.7127e-05 - accuracy: 1.0000 0s - loss: 8\n",
      "Epoch 10/10\n",
      "122/122 [==============================] - 2s 14ms/step - loss: 6.0582e-05 - accuracy: 1.0000 0s - loss: 6.0762e-05 - accu\n"
     ]
    },
    {
     "data": {
      "text/plain": [
       "<tensorflow.python.keras.callbacks.History at 0x265cbf81d30>"
      ]
     },
     "execution_count": 92,
     "metadata": {},
     "output_type": "execute_result"
    }
   ],
   "source": [
    "ann.compile(optimizer='adam', loss='binary_crossentropy', metrics=['accuracy'])\n",
    "ann.fit(X_train_vec, y_train, batch_size=BATCH_SIZE, epochs=EPOCHS, verbose=1)"
   ]
  },
  {
   "cell_type": "code",
   "execution_count": 93,
   "metadata": {},
   "outputs": [
    {
     "name": "stdout",
     "output_type": "stream",
     "text": [
      "0.9742822966507177\n",
      "0.9191125690607735\n"
     ]
    }
   ],
   "source": [
    "dl_y_pred = (ann.predict(X_test_vec) > 0.5)\n",
    "\n",
    "print(accuracy_score(y_test, dl_y_pred))\n",
    "print(roc_auc_score(y_test, dl_y_pred))"
   ]
  },
  {
   "cell_type": "code",
   "execution_count": 94,
   "metadata": {},
   "outputs": [
    {
     "name": "stdout",
     "output_type": "stream",
     "text": [
      "TP: 1440\n",
      "FP: 8\n",
      "FN: 35\n",
      "TN: 189\n"
     ]
    }
   ],
   "source": [
    "dl_cf_mtrx = confusion_matrix(y_test, dl_y_pred)\n",
    "print('TP:', dl_cf_mtrx[0][0])\n",
    "print('FP:', dl_cf_mtrx[0][1])\n",
    "print('FN:', dl_cf_mtrx[1][0])\n",
    "print('TN:', dl_cf_mtrx[1][1])"
   ]
  },
  {
   "cell_type": "markdown",
   "metadata": {},
   "source": [
    "The overall accuracy of this simple neural network bests both the Naive Bayes and the SVM classifiers; however, slightly more false positives were produced while the number of false negatives decreased."
   ]
  },
  {
   "cell_type": "markdown",
   "metadata": {},
   "source": [
    "# Summary"
   ]
  },
  {
   "cell_type": "code",
   "execution_count": 95,
   "metadata": {},
   "outputs": [
    {
     "data": {
      "text/html": [
       "<div>\n",
       "<style scoped>\n",
       "    .dataframe tbody tr th:only-of-type {\n",
       "        vertical-align: middle;\n",
       "    }\n",
       "\n",
       "    .dataframe tbody tr th {\n",
       "        vertical-align: top;\n",
       "    }\n",
       "\n",
       "    .dataframe thead th {\n",
       "        text-align: right;\n",
       "    }\n",
       "</style>\n",
       "<table border=\"1\" class=\"dataframe\">\n",
       "  <thead>\n",
       "    <tr style=\"text-align: right;\">\n",
       "      <th></th>\n",
       "      <th>TP</th>\n",
       "      <th>FP</th>\n",
       "      <th>FN</th>\n",
       "      <th>TN</th>\n",
       "    </tr>\n",
       "  </thead>\n",
       "  <tbody>\n",
       "    <tr>\n",
       "      <th>Naive Bayes</th>\n",
       "      <td>1447</td>\n",
       "      <td>1</td>\n",
       "      <td>73</td>\n",
       "      <td>151</td>\n",
       "    </tr>\n",
       "    <tr>\n",
       "      <th>SVM</th>\n",
       "      <td>1447</td>\n",
       "      <td>1</td>\n",
       "      <td>45</td>\n",
       "      <td>179</td>\n",
       "    </tr>\n",
       "    <tr>\n",
       "      <th>ANN</th>\n",
       "      <td>1440</td>\n",
       "      <td>8</td>\n",
       "      <td>35</td>\n",
       "      <td>189</td>\n",
       "    </tr>\n",
       "  </tbody>\n",
       "</table>\n",
       "</div>"
      ],
      "text/plain": [
       "               TP  FP  FN   TN\n",
       "Naive Bayes  1447   1  73  151\n",
       "SVM          1447   1  45  179\n",
       "ANN          1440   8  35  189"
      ]
     },
     "execution_count": 95,
     "metadata": {},
     "output_type": "execute_result"
    }
   ],
   "source": [
    "confusion_matrices = [\n",
    "    nb_cf_mtrx.reshape((4, )),\n",
    "    sv_cf_mtrx.reshape((4, )),\n",
    "    dl_cf_mtrx.reshape((4, ))\n",
    "]\n",
    "\n",
    "summary_df = pd.DataFrame(\n",
    "    data=confusion_matrices,\n",
    "    columns=['TP', 'FP', 'FN', 'TN'],\n",
    "    index=['Naive Bayes', 'SVM', 'ANN']\n",
    ")\n",
    "\n",
    "summary_df"
   ]
  },
  {
   "cell_type": "code",
   "execution_count": 99,
   "metadata": {},
   "outputs": [
    {
     "name": "stderr",
     "output_type": "stream",
     "text": [
      "C:\\Users\\siraj\\miniconda3\\envs\\dl4nlp\\lib\\site-packages\\tensorflow\\python\\keras\\engine\\sequential.py:425: UserWarning: `model.predict_proba()` is deprecated and will be removed after 2021-01-01. Please use `model.predict()` instead.\n",
      "  warnings.warn('`model.predict_proba()` is deprecated and '\n"
     ]
    },
    {
     "data": {
      "image/png": "[encoded data removed]",
      "text/plain": [
       "<Figure size 648x432 with 1 Axes>"
      ]
     },
     "metadata": {
      "needs_background": "light"
     },
     "output_type": "display_data"
    }
   ],
   "source": [
    "plt.rcParams[\"figure.figsize\"] = (9, 6)\n",
    "\n",
    "y_pred_proba_nb = bayes.predict_proba(X_test_vec)[::,1]\n",
    "fpr, tpr, _ = roc_curve(y_test, y_pred_proba_nb)\n",
    "auc = roc_auc_score(y_test, y_pred_proba_nb)\n",
    "plt.plot(fpr, tpr, label=\"Naive Bayes, AUC = \" + str(auc))\n",
    "\n",
    "y_pred_proba_svm = svm.predict_proba(X_test_vec)[::,1]\n",
    "fpr, tpr, _ = roc_curve(y_test, y_pred_proba_svm)\n",
    "auc = roc_auc_score(y_test, y_pred_proba_svm)\n",
    "plt.plot(fpr, tpr, label=\"SVM, AUC = \" + str(auc))\n",
    "\n",
    "y_pred_proba_ann = ann.predict_proba(X_test_vec)\n",
    "fpr, tpr, _ = roc_curve(y_test, y_pred_proba_ann)\n",
    "auc = roc_auc_score(y_test, y_pred_proba_ann)\n",
    "plt.plot(fpr, tpr, label=\"Neural Net, AUC = \" + str(auc))\n",
    "\n",
    "plt.plot([0, 1], [0, 1], color='red', linestyle='--')\n",
    "\n",
    "plt.legend(loc=4)\n",
    "plt.show()"
   ]
  },
  {
   "cell_type": "code",
   "execution_count": null,
   "metadata": {},
   "outputs": [],
   "source": []
  }
 ],
 "metadata": {
  "kernelspec": {
   "display_name": "dl4nlp",
   "language": "python",
   "name": "dl4nlp"
  },
  "language_info": {
   "codemirror_mode": {
    "name": "ipython",
    "version": 3
   },
   "file_extension": ".py",
   "mimetype": "text/x-python",
   "name": "python",
   "nbconvert_exporter": "python",
   "pygments_lexer": "ipython3",
   "version": "3.6.12"
  }
 },
 "nbformat": 4,
 "nbformat_minor": 4
}
